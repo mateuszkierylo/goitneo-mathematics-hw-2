{
  "nbformat": 4,
  "nbformat_minor": 0,
  "metadata": {
    "colab": {
      "provenance": []
    },
    "kernelspec": {
      "name": "python3",
      "display_name": "Python 3"
    },
    "language_info": {
      "name": "python"
    }
  },
  "cells": [
    {
      "cell_type": "markdown",
      "source": [
        "**TASK 1. Solving matrices**\n",
        "\n",
        "*Exercise 1:*"
      ],
      "metadata": {
        "id": "_L1otiW-zQzm"
      }
    },
    {
      "cell_type": "code",
      "execution_count": 1,
      "metadata": {
        "id": "bwCvXSC7zCgq"
      },
      "outputs": [],
      "source": [
        "# importing the NumPy library\n",
        "\n",
        "import numpy as np"
      ]
    },
    {
      "cell_type": "code",
      "source": [
        "# declaration of matrix A\n",
        "\n",
        "a = np.array(\n",
        " [[-1, 1,  2],\n",
        " [0, -1, -3],\n",
        "  [4, -3, 2]]\n",
        " )\n",
        "print(f\"A = {a}\")"
      ],
      "metadata": {
        "colab": {
          "base_uri": "https://localhost:8080/"
        },
        "id": "qwQIyp69z9jy",
        "outputId": "e8586e62-932b-4eb3-d474-35520213a4ab"
      },
      "execution_count": 2,
      "outputs": [
        {
          "output_type": "stream",
          "name": "stdout",
          "text": [
            "A = [[-1  1  2]\n",
            " [ 0 -1 -3]\n",
            " [ 4 -3  2]]\n"
          ]
        }
      ]
    },
    {
      "cell_type": "code",
      "source": [
        "# calculating the determinant of matrix A\n",
        "\n",
        "det_a = round(np.linalg.det(a))\n",
        "print(f\"Determinant of base matrix A: {det_a}\")"
      ],
      "metadata": {
        "colab": {
          "base_uri": "https://localhost:8080/"
        },
        "id": "HjPD8NVqih-1",
        "outputId": "0ec0a6ad-456c-4040-efd3-900c31fffc8b"
      },
      "execution_count": 3,
      "outputs": [
        {
          "output_type": "stream",
          "name": "stdout",
          "text": [
            "Determinant of base matrix A: 7\n"
          ]
        }
      ]
    },
    {
      "cell_type": "code",
      "source": [
        "# inverse matrix to matrix A\n",
        "\n",
        "a_back = np.linalg.inv(a)\n",
        "print(f\"Inverse matrix to matrix A: \\n {a_back }\")"
      ],
      "metadata": {
        "colab": {
          "base_uri": "https://localhost:8080/"
        },
        "id": "rnSDICoRgraF",
        "outputId": "9520944c-6a23-4815-fef1-eb1b5f0a69a2"
      },
      "execution_count": 4,
      "outputs": [
        {
          "output_type": "stream",
          "name": "stdout",
          "text": [
            "Inverse matrix to matrix A: \n",
            " [[-1.57142857 -1.14285714 -0.14285714]\n",
            " [-1.71428571 -1.42857143 -0.42857143]\n",
            " [ 0.57142857  0.14285714  0.14285714]]\n"
          ]
        }
      ]
    },
    {
      "cell_type": "code",
      "source": [
        "# declaration of vector B\n",
        "\n",
        "b = np.array([1, -4, 7])\n",
        "print(b)"
      ],
      "metadata": {
        "id": "nwYGo1TWz-u7",
        "colab": {
          "base_uri": "https://localhost:8080/"
        },
        "outputId": "8a5da46a-2a54-4f32-8b76-0bf3f79924a4"
      },
      "execution_count": 5,
      "outputs": [
        {
          "output_type": "stream",
          "name": "stdout",
          "text": [
            "[ 1 -4  7]\n"
          ]
        }
      ]
    },
    {
      "cell_type": "code",
      "source": [
        "# vector-column solutions:\n",
        "\n",
        "print(f\"Vector-column solutions: \\n {a_back.dot(b)}\")"
      ],
      "metadata": {
        "colab": {
          "base_uri": "https://localhost:8080/"
        },
        "id": "bclkwVgihYQe",
        "outputId": "23ebb800-8093-4ed0-e92d-f15b6b8b8348"
      },
      "execution_count": 6,
      "outputs": [
        {
          "output_type": "stream",
          "name": "stdout",
          "text": [
            "Vector-column solutions: \r\n",
            " [2. 1. 1.]\n"
          ]
        }
      ]
    },
    {
      "cell_type": "markdown",
      "source": [
        "*Exercise 2:*"
      ],
      "metadata": {
        "id": "n4RFdWRokVEw"
      }
    },
    {
      "cell_type": "code",
      "source": [
        "# declaration of matrix A\n",
        "\n",
        "a = np.array(\n",
        " [[-3, -1,  0],\n",
        " [2, -2, 4],\n",
        "  [5, -6, 2]]\n",
        " )\n",
        "print(f\"A = {a}\")"
      ],
      "metadata": {
        "colab": {
          "base_uri": "https://localhost:8080/"
        },
        "id": "IRqVv_MMkKBC",
        "outputId": "58a74bf9-9e4c-44c9-d5f7-8a22643a7804"
      },
      "execution_count": 7,
      "outputs": [
        {
          "output_type": "stream",
          "name": "stdout",
          "text": [
            "A = [[-3 -1  0]\n",
            " [ 2 -2  4]\n",
            " [ 5 -6  2]]\n"
          ]
        }
      ]
    },
    {
      "cell_type": "code",
      "source": [
        "# calculating the determinant of matrix A\n",
        "\n",
        "det_a = round(np.linalg.det(a))\n",
        "print(f\"Determinant of base matrix A: {det_a}\")"
      ],
      "metadata": {
        "colab": {
          "base_uri": "https://localhost:8080/"
        },
        "id": "lAwsiCYSlL05",
        "outputId": "e1605a9e-eb32-43da-b64e-455918cd6979"
      },
      "execution_count": 8,
      "outputs": [
        {
          "output_type": "stream",
          "name": "stdout",
          "text": [
            "Determinant of base matrix A: -76\n"
          ]
        }
      ]
    },
    {
      "cell_type": "code",
      "source": [
        "# inverse matrix to matrix A\n",
        "\n",
        "a_back = np.linalg.inv(a)\n",
        "print(f\"Inverse matrix to matrix A: \\n {a_back }\")"
      ],
      "metadata": {
        "colab": {
          "base_uri": "https://localhost:8080/"
        },
        "id": "fY9SmXD5ldik",
        "outputId": "cefd2361-d9f0-44fd-e70d-a7269a39702c"
      },
      "execution_count": 9,
      "outputs": [
        {
          "output_type": "stream",
          "name": "stdout",
          "text": [
            "Inverse matrix to matrix A: \n",
            " [[-0.26315789 -0.02631579  0.05263158]\n",
            " [-0.21052632  0.07894737 -0.15789474]\n",
            " [ 0.02631579  0.30263158 -0.10526316]]\n"
          ]
        }
      ]
    },
    {
      "cell_type": "code",
      "source": [
        "# declaration of vector B\n",
        "\n",
        "b = np.array([4, 8, 13])\n",
        "print(b)"
      ],
      "metadata": {
        "colab": {
          "base_uri": "https://localhost:8080/"
        },
        "id": "MB2RytSslnbV",
        "outputId": "276f48c3-a5d5-4768-c928-68b52d06325f"
      },
      "execution_count": 10,
      "outputs": [
        {
          "output_type": "stream",
          "name": "stdout",
          "text": [
            "[ 4  8 13]\n"
          ]
        }
      ]
    },
    {
      "cell_type": "code",
      "source": [
        "# vector-column solutions:\n",
        "\n",
        "print(f\"Vector-column solutions: \\n {a_back.dot(b)}\")"
      ],
      "metadata": {
        "colab": {
          "base_uri": "https://localhost:8080/"
        },
        "id": "qXMSFNl3ltcU",
        "outputId": "fd513370-6b2e-41fd-d46d-40e2b504d96e"
      },
      "execution_count": 11,
      "outputs": [
        {
          "output_type": "stream",
          "name": "stdout",
          "text": [
            "Vector-column solutions: \n",
            " [-0.57894737 -2.26315789  1.15789474]\n"
          ]
        }
      ]
    },
    {
      "cell_type": "markdown",
      "source": [
        "**TASK 2: Solving a problem with a graphical description**\n"
      ],
      "metadata": {
        "id": "gbBa9pftmS9-"
      }
    },
    {
      "cell_type": "code",
      "source": [
        "# declaration of matrix A\n",
        "# x = tree\n",
        "# y = apple\n",
        "# z = banana\n",
        "\n",
        "a = np.array(\n",
        " [[3, 0,  0],\n",
        " [0, 1, 2],\n",
        "  [1, 2, 0]]\n",
        " )\n",
        "print(f\"A = {a}\")"
      ],
      "metadata": {
        "colab": {
          "base_uri": "https://localhost:8080/"
        },
        "id": "hR5-U77jnqjm",
        "outputId": "25f42ce7-3c61-46d1-8f29-ac49e0c89a1d"
      },
      "execution_count": 18,
      "outputs": [
        {
          "output_type": "stream",
          "name": "stdout",
          "text": [
            "A = [[3 0 0]\n",
            " [0 1 2]\n",
            " [1 2 0]]\n"
          ]
        }
      ]
    },
    {
      "cell_type": "code",
      "source": [
        "# calculating the determinant of matrix A\n",
        "\n",
        "det_a = round(np.linalg.det(a))\n",
        "print(f\"Determinant of base matrix A: {det_a}\")"
      ],
      "metadata": {
        "id": "mXE4QBVa0LDW"
      },
      "execution_count": null,
      "outputs": []
    },
    {
      "cell_type": "code",
      "source": [
        "# declaration of vector B\n",
        "\n",
        "b = np.array([60, 23, 30])\n",
        "print(b)"
      ],
      "metadata": {
        "colab": {
          "base_uri": "https://localhost:8080/"
        },
        "id": "k2mXhb3IoiAT",
        "outputId": "9e191edd-16d4-4ca1-ef36-261a50734413"
      },
      "execution_count": 19,
      "outputs": [
        {
          "output_type": "stream",
          "name": "stdout",
          "text": [
            "[60 23 30]\n"
          ]
        }
      ]
    },
    {
      "cell_type": "code",
      "source": [
        "# determining the vector X\n",
        "\n",
        "x = np.linalg.solve(a, b)\n",
        "print(f\"X = {x}\")"
      ],
      "metadata": {
        "colab": {
          "base_uri": "https://localhost:8080/"
        },
        "id": "GyDnAlhHpmws",
        "outputId": "ae2e4acc-e405-4d06-a81d-6e125cf21b2c"
      },
      "execution_count": 20,
      "outputs": [
        {
          "output_type": "stream",
          "name": "stdout",
          "text": [
            "X = [20.  5.  9.]\n"
          ]
        }
      ]
    },
    {
      "cell_type": "code",
      "source": [
        "# solving the task\n",
        "\n",
        "res = x[0]+x[1]+x[2]\n",
        "print(res)"
      ],
      "metadata": {
        "colab": {
          "base_uri": "https://localhost:8080/"
        },
        "id": "yL2EMoIPp-9B",
        "outputId": "92b57250-f372-476a-e105-4758d5f58331"
      },
      "execution_count": 21,
      "outputs": [
        {
          "output_type": "stream",
          "name": "stdout",
          "text": [
            "34.0\n"
          ]
        }
      ]
    },
    {
      "cell_type": "markdown",
      "source": [
        "**TASK 3. Solving a problem with a textual condition**\n"
      ],
      "metadata": {
        "id": "pcaB0eOSs30n"
      }
    },
    {
      "cell_type": "markdown",
      "source": [
        "Data:\n",
        "\n",
        "x - designers,\n",
        "\n",
        "y - developers,\n",
        "\n",
        "z - testers,\n",
        "\n",
        "---\n",
        "\n",
        "\n",
        "\n",
        "\n"
      ],
      "metadata": {
        "id": "hOLFRZMqvKvC"
      }
    },
    {
      "cell_type": "code",
      "source": [
        "# declaration of matrix A\n",
        "# x = designers\n",
        "# y = developers\n",
        "# z = testers\n",
        "\n",
        "a = np.array(\n",
        " [[20, 3,  0],\n",
        " [8, 28, 4],\n",
        "  [4, 12, 32]]\n",
        " )\n",
        "print(f\"A = {a}\")"
      ],
      "metadata": {
        "colab": {
          "base_uri": "https://localhost:8080/"
        },
        "id": "6ftQJFZ4sxhQ",
        "outputId": "da225e1b-4a05-47a4-ed68-bda8ef19fb8a"
      },
      "execution_count": 22,
      "outputs": [
        {
          "output_type": "stream",
          "name": "stdout",
          "text": [
            "A = [[20  3  0]\n",
            " [ 8 28  4]\n",
            " [ 4 12 32]]\n"
          ]
        }
      ]
    },
    {
      "cell_type": "code",
      "source": [
        "# calculating the determinant of matrix A\n",
        "\n",
        "det_a = round(np.linalg.det(a))\n",
        "print(f\"Determinant of base matrix A: {det_a}\")"
      ],
      "metadata": {
        "colab": {
          "base_uri": "https://localhost:8080/"
        },
        "id": "MAua-yZw06_w",
        "outputId": "536b89b4-e9e0-4a39-c5f7-f7ce2156dbe0"
      },
      "execution_count": 23,
      "outputs": [
        {
          "output_type": "stream",
          "name": "stdout",
          "text": [
            "Determinant of base matrix A: 16240\n"
          ]
        }
      ]
    },
    {
      "cell_type": "code",
      "source": [
        "# declaration of vector B\n",
        "\n",
        "b = np.array([800, 900, 600])\n",
        "print(b)"
      ],
      "metadata": {
        "colab": {
          "base_uri": "https://localhost:8080/"
        },
        "id": "1Vim8Gk6s_k0",
        "outputId": "9646dc79-0f06-469e-e140-94f339c33e9c"
      },
      "execution_count": 24,
      "outputs": [
        {
          "output_type": "stream",
          "name": "stdout",
          "text": [
            "[800 900 600]\n"
          ]
        }
      ]
    },
    {
      "cell_type": "code",
      "source": [
        "# determining the vector X\n",
        "\n",
        "x = np.linalg.solve(a, b)\n",
        "print(f\"X = {x}\")"
      ],
      "metadata": {
        "colab": {
          "base_uri": "https://localhost:8080/"
        },
        "id": "9QNQ3GQD1LIQ",
        "outputId": "66ed6eb0-cfd5-4148-d939-768c21c5cb5b"
      },
      "execution_count": 25,
      "outputs": [
        {
          "output_type": "stream",
          "name": "stdout",
          "text": [
            "X = [36.89655172 20.68965517  6.37931034]\n"
          ]
        }
      ]
    },
    {
      "cell_type": "markdown",
      "source": [
        "Solution (cost per hour):\n",
        "\n",
        "designers = 36,90$\n",
        "\n",
        "developers = 20,69$\n",
        "\n",
        "testers = 6,80$\n",
        "\n"
      ],
      "metadata": {
        "id": "eq-Fdsda1es1"
      }
    }
  ]
}