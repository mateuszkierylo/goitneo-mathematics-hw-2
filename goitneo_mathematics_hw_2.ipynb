{
  "nbformat": 4,
  "nbformat_minor": 0,
  "metadata": {
    "colab": {
      "provenance": []
    },
    "kernelspec": {
      "name": "python3",
      "display_name": "Python 3"
    },
    "language_info": {
      "name": "python"
    }
  },
  "cells": [
    {
      "cell_type": "markdown",
      "source": [
        "**TASK 1. Solving matrices**\n",
        "\n",
        "*Exercise 1:*"
      ],
      "metadata": {
        "id": "_L1otiW-zQzm"
      }
    },
    {
      "cell_type": "code",
      "execution_count": 1,
      "metadata": {
        "id": "bwCvXSC7zCgq"
      },
      "outputs": [],
      "source": [
        "# importing the NumPy library\n",
        "\n",
        "import numpy as np"
      ]
    },
    {
      "cell_type": "code",
      "source": [
        "# declaration of matrix A\n",
        "\n",
        "a = np.array(\n",
        " [[-1, 1,  2],\n",
        " [0, -1, -3],\n",
        "  [4, -3, 2]]\n",
        " )\n",
        "print(f\"A = {a}\")"
      ],
      "metadata": {
        "colab": {
          "base_uri": "https://localhost:8080/"
        },
        "id": "qwQIyp69z9jy",
        "outputId": "2597ff49-1c02-4868-89a2-bf17aa257a9e"
      },
      "execution_count": 2,
      "outputs": [
        {
          "output_type": "stream",
          "name": "stdout",
          "text": [
            "A = [[-1  1  2]\n",
            " [ 0 -1 -3]\n",
            " [ 4 -3  2]]\n"
          ]
        }
      ]
    },
    {
      "cell_type": "code",
      "source": [
        "# calculating the determinant of matrix A\n",
        "\n",
        "det_a = round(np.linalg.det(a))\n",
        "print(f\"Determinant of base matrix A: {det_a}\")"
      ],
      "metadata": {
        "colab": {
          "base_uri": "https://localhost:8080/"
        },
        "id": "HjPD8NVqih-1",
        "outputId": "cbbf70e0-d4a0-4bf0-bef3-edd242141135"
      },
      "execution_count": 3,
      "outputs": [
        {
          "output_type": "stream",
          "name": "stdout",
          "text": [
            "Determinant of base matrix A: 7\n"
          ]
        }
      ]
    },
    {
      "cell_type": "code",
      "source": [
        "# inverse matrix to matrix A\n",
        "\n",
        "a_back = np.linalg.inv(a)\n",
        "print(f\"Inverse matrix to matrix A: \\n {a_back }\")"
      ],
      "metadata": {
        "colab": {
          "base_uri": "https://localhost:8080/"
        },
        "id": "rnSDICoRgraF",
        "outputId": "eab66c47-8b50-4a6f-faee-871196ffb562"
      },
      "execution_count": 4,
      "outputs": [
        {
          "output_type": "stream",
          "name": "stdout",
          "text": [
            "Inverse matrix to matrix A: \n",
            " [[-1.57142857 -1.14285714 -0.14285714]\n",
            " [-1.71428571 -1.42857143 -0.42857143]\n",
            " [ 0.57142857  0.14285714  0.14285714]]\n"
          ]
        }
      ]
    },
    {
      "cell_type": "code",
      "source": [
        "# declaration of vector B\n",
        "\n",
        "b = np.array([1, -4, 7])\n",
        "print(b)"
      ],
      "metadata": {
        "id": "nwYGo1TWz-u7",
        "colab": {
          "base_uri": "https://localhost:8080/"
        },
        "outputId": "28e40655-9dd4-4a49-b460-09e74562688f"
      },
      "execution_count": 5,
      "outputs": [
        {
          "output_type": "stream",
          "name": "stdout",
          "text": [
            "[ 1 -4  7]\n"
          ]
        }
      ]
    },
    {
      "cell_type": "code",
      "source": [
        "# vector-column solutions:\n",
        "\n",
        "print(f\"Vector-column solutions: \\n {a_back.dot(b)}\")"
      ],
      "metadata": {
        "colab": {
          "base_uri": "https://localhost:8080/"
        },
        "id": "bclkwVgihYQe",
        "outputId": "8fe2a16b-3a8f-47fe-b17a-c452b5c5e4bb"
      },
      "execution_count": 6,
      "outputs": [
        {
          "output_type": "stream",
          "name": "stdout",
          "text": [
            "Vector-column solutions: \n",
            " [2. 1. 1.]\n"
          ]
        }
      ]
    },
    {
      "cell_type": "markdown",
      "source": [
        "*Exercise 2:*"
      ],
      "metadata": {
        "id": "n4RFdWRokVEw"
      }
    },
    {
      "cell_type": "code",
      "source": [
        "# declaration of matrix A\n",
        "\n",
        "a = np.array(\n",
        " [[-3, -1,  0],\n",
        " [2, -2, 4],\n",
        "  [5, -6, 2]]\n",
        " )\n",
        "print(f\"A = {a}\")"
      ],
      "metadata": {
        "colab": {
          "base_uri": "https://localhost:8080/"
        },
        "id": "IRqVv_MMkKBC",
        "outputId": "015088c9-626e-4d14-8c3d-cf15419c52c3"
      },
      "execution_count": 7,
      "outputs": [
        {
          "output_type": "stream",
          "name": "stdout",
          "text": [
            "A = [[-3 -1  0]\n",
            " [ 2 -2  4]\n",
            " [ 5 -6  2]]\n"
          ]
        }
      ]
    },
    {
      "cell_type": "code",
      "source": [
        "# calculating the determinant of matrix A\n",
        "\n",
        "det_a = round(np.linalg.det(a))\n",
        "print(f\"Determinant of base matrix A: {det_a}\")"
      ],
      "metadata": {
        "colab": {
          "base_uri": "https://localhost:8080/"
        },
        "id": "lAwsiCYSlL05",
        "outputId": "fba320de-235a-49be-9651-391165543c62"
      },
      "execution_count": 8,
      "outputs": [
        {
          "output_type": "stream",
          "name": "stdout",
          "text": [
            "Determinant of base matrix A: -76\n"
          ]
        }
      ]
    },
    {
      "cell_type": "code",
      "source": [
        "# inverse matrix to matrix A\n",
        "\n",
        "a_back = np.linalg.inv(a)\n",
        "print(f\"Inverse matrix to matrix A: \\n {a_back }\")"
      ],
      "metadata": {
        "colab": {
          "base_uri": "https://localhost:8080/"
        },
        "id": "fY9SmXD5ldik",
        "outputId": "1fd6e3e0-b8a4-433e-afea-bb850dc9e8cf"
      },
      "execution_count": 9,
      "outputs": [
        {
          "output_type": "stream",
          "name": "stdout",
          "text": [
            "Inverse matrix to matrix A: \n",
            " [[-0.26315789 -0.02631579  0.05263158]\n",
            " [-0.21052632  0.07894737 -0.15789474]\n",
            " [ 0.02631579  0.30263158 -0.10526316]]\n"
          ]
        }
      ]
    },
    {
      "cell_type": "code",
      "source": [
        "# declaration of vector B\n",
        "\n",
        "b = np.array([4, 8, 13])\n",
        "print(b)"
      ],
      "metadata": {
        "colab": {
          "base_uri": "https://localhost:8080/"
        },
        "id": "MB2RytSslnbV",
        "outputId": "bce16122-a329-4ce0-be0b-38c18a4fb96c"
      },
      "execution_count": 10,
      "outputs": [
        {
          "output_type": "stream",
          "name": "stdout",
          "text": [
            "[ 4  8 13]\n"
          ]
        }
      ]
    },
    {
      "cell_type": "code",
      "source": [
        "# vector-column solutions:\n",
        "\n",
        "print(f\"Vector-column solutions: \\n {a_back.dot(b)}\")"
      ],
      "metadata": {
        "colab": {
          "base_uri": "https://localhost:8080/"
        },
        "id": "qXMSFNl3ltcU",
        "outputId": "34ef9259-5bf3-42f7-a2bb-801c62e0b251"
      },
      "execution_count": 11,
      "outputs": [
        {
          "output_type": "stream",
          "name": "stdout",
          "text": [
            "Vector-column solutions: \n",
            " [-0.57894737 -2.26315789  1.15789474]\n"
          ]
        }
      ]
    },
    {
      "cell_type": "markdown",
      "source": [
        "**TASK 2: Solving a problem with a graphical description**\n"
      ],
      "metadata": {
        "id": "gbBa9pftmS9-"
      }
    },
    {
      "cell_type": "code",
      "source": [
        "# declaration of matrix A\n",
        "# x = tree\n",
        "# y = apple\n",
        "# z = banana\n",
        "\n",
        "a = np.array(\n",
        " [[3, 0,  0],\n",
        " [0, 1, 2],\n",
        "  [1, 2, 0]]\n",
        " )\n",
        "print(f\"A = {a}\")"
      ],
      "metadata": {
        "colab": {
          "base_uri": "https://localhost:8080/"
        },
        "id": "hR5-U77jnqjm",
        "outputId": "8cf7a6c2-a910-40d5-86f8-04deb003cf16"
      },
      "execution_count": 12,
      "outputs": [
        {
          "output_type": "stream",
          "name": "stdout",
          "text": [
            "A = [[3 0 0]\n",
            " [0 1 2]\n",
            " [1 2 0]]\n"
          ]
        }
      ]
    },
    {
      "cell_type": "code",
      "source": [
        "# calculating the determinant of matrix A\n",
        "\n",
        "det_a = round(np.linalg.det(a))\n",
        "print(f\"Determinant of base matrix A: {det_a}\")"
      ],
      "metadata": {
        "id": "mXE4QBVa0LDW",
        "colab": {
          "base_uri": "https://localhost:8080/"
        },
        "outputId": "13539420-c894-484a-c022-f94c06a36367"
      },
      "execution_count": 13,
      "outputs": [
        {
          "output_type": "stream",
          "name": "stdout",
          "text": [
            "Determinant of base matrix A: -12\n"
          ]
        }
      ]
    },
    {
      "cell_type": "code",
      "source": [
        "# inverse matrix to matrix A\n",
        "\n",
        "a_back = np.linalg.inv(a)\n",
        "print(f\"Inverse matrix to matrix A: \\n {a_back }\")"
      ],
      "metadata": {
        "colab": {
          "base_uri": "https://localhost:8080/"
        },
        "id": "76BXxOfADgpW",
        "outputId": "3799e86f-98fe-4b88-b580-6c2f8b00acdc"
      },
      "execution_count": 14,
      "outputs": [
        {
          "output_type": "stream",
          "name": "stdout",
          "text": [
            "Inverse matrix to matrix A: \n",
            " [[ 0.33333333  0.          0.        ]\n",
            " [-0.16666667  0.          0.5       ]\n",
            " [ 0.08333333  0.5        -0.25      ]]\n"
          ]
        }
      ]
    },
    {
      "cell_type": "code",
      "source": [
        "# declaration of vector B\n",
        "\n",
        "b = np.array([60, 23, 30])\n",
        "print(b)"
      ],
      "metadata": {
        "colab": {
          "base_uri": "https://localhost:8080/"
        },
        "id": "k2mXhb3IoiAT",
        "outputId": "ab1ffd9a-4fb7-4bbb-c089-246365d5d212"
      },
      "execution_count": 15,
      "outputs": [
        {
          "output_type": "stream",
          "name": "stdout",
          "text": [
            "[60 23 30]\n"
          ]
        }
      ]
    },
    {
      "cell_type": "code",
      "source": [
        "# vector-column solutions:\n",
        "vec_col = a_back.dot(b)\n",
        "print(f\"Vector-column solutions: \\n {vec_col }\")"
      ],
      "metadata": {
        "colab": {
          "base_uri": "https://localhost:8080/"
        },
        "id": "GyDnAlhHpmws",
        "outputId": "66817700-3f1c-488c-c05b-b9b30c2b3ac4"
      },
      "execution_count": 19,
      "outputs": [
        {
          "output_type": "stream",
          "name": "stdout",
          "text": [
            "Vector-column solutions: \n",
            " [20.  5.  9.]\n"
          ]
        }
      ]
    },
    {
      "cell_type": "code",
      "source": [
        "# solving the task\n",
        "\n",
        "res = vec_col[0]+vec_col[1]+vec_col[2]\n",
        "print(res)"
      ],
      "metadata": {
        "colab": {
          "base_uri": "https://localhost:8080/"
        },
        "id": "yL2EMoIPp-9B",
        "outputId": "3eedf27c-80c7-4d6a-b5e3-fbc1f4fbc81f"
      },
      "execution_count": 20,
      "outputs": [
        {
          "output_type": "stream",
          "name": "stdout",
          "text": [
            "34.0\n"
          ]
        }
      ]
    },
    {
      "cell_type": "markdown",
      "source": [
        "**TASK 3. Solving a problem with a textual condition**\n"
      ],
      "metadata": {
        "id": "pcaB0eOSs30n"
      }
    },
    {
      "cell_type": "markdown",
      "source": [
        "Data:\n",
        "\n",
        "x - designers,\n",
        "\n",
        "y - developers,\n",
        "\n",
        "z - testers,\n",
        "\n",
        "---\n",
        "\n",
        "\n",
        "\n",
        "\n"
      ],
      "metadata": {
        "id": "hOLFRZMqvKvC"
      }
    },
    {
      "cell_type": "code",
      "source": [
        "# declaration of matrix A\n",
        "# x = designers\n",
        "# y = developers\n",
        "# z = testers\n",
        "\n",
        "a = np.array(\n",
        " [[20, 3,  0],\n",
        " [8, 28, 4],\n",
        "  [4, 12, 32]]\n",
        " )\n",
        "print(f\"A = {a}\")"
      ],
      "metadata": {
        "colab": {
          "base_uri": "https://localhost:8080/"
        },
        "id": "6ftQJFZ4sxhQ",
        "outputId": "c090ede3-f075-4dd8-da63-f665926bd44f"
      },
      "execution_count": 21,
      "outputs": [
        {
          "output_type": "stream",
          "name": "stdout",
          "text": [
            "A = [[20  3  0]\n",
            " [ 8 28  4]\n",
            " [ 4 12 32]]\n"
          ]
        }
      ]
    },
    {
      "cell_type": "code",
      "source": [
        "# calculating the determinant of matrix A\n",
        "\n",
        "det_a = round(np.linalg.det(a))\n",
        "print(f\"Determinant of base matrix A: {det_a}\")"
      ],
      "metadata": {
        "colab": {
          "base_uri": "https://localhost:8080/"
        },
        "id": "MAua-yZw06_w",
        "outputId": "b5d7ce46-5147-45ac-e569-9558558be8af"
      },
      "execution_count": 22,
      "outputs": [
        {
          "output_type": "stream",
          "name": "stdout",
          "text": [
            "Determinant of base matrix A: 16240\n"
          ]
        }
      ]
    },
    {
      "cell_type": "code",
      "source": [
        "# inverse matrix to matrix A\n",
        "\n",
        "a_back = np.linalg.inv(a)\n",
        "print(f\"Inverse matrix to matrix A: \\n {a_back }\")"
      ],
      "metadata": {
        "colab": {
          "base_uri": "https://localhost:8080/"
        },
        "id": "_AWBuK8uEMGR",
        "outputId": "e252d48e-825e-4a12-f798-422341d70fe7"
      },
      "execution_count": 23,
      "outputs": [
        {
          "output_type": "stream",
          "name": "stdout",
          "text": [
            "Inverse matrix to matrix A: \n",
            " [[ 0.05221675 -0.00591133  0.00073892]\n",
            " [-0.01477833  0.03940887 -0.00492611]\n",
            " [-0.00098522 -0.01403941  0.03300493]]\n"
          ]
        }
      ]
    },
    {
      "cell_type": "code",
      "source": [
        "# declaration of vector B\n",
        "\n",
        "b = np.array([800, 900, 600])\n",
        "print(b)"
      ],
      "metadata": {
        "colab": {
          "base_uri": "https://localhost:8080/"
        },
        "id": "1Vim8Gk6s_k0",
        "outputId": "2e8e1f5c-02dd-41ea-fb66-f0cda323efbe"
      },
      "execution_count": 24,
      "outputs": [
        {
          "output_type": "stream",
          "name": "stdout",
          "text": [
            "[800 900 600]\n"
          ]
        }
      ]
    },
    {
      "cell_type": "code",
      "source": [
        "# vector-column solutions:\n",
        "\n",
        "print(f\"Vector-column solutions: \\n {a_back.dot(b)}\")"
      ],
      "metadata": {
        "colab": {
          "base_uri": "https://localhost:8080/"
        },
        "id": "9QNQ3GQD1LIQ",
        "outputId": "c25b81c5-79e2-4dfa-e41c-c3310a21a77c"
      },
      "execution_count": 25,
      "outputs": [
        {
          "output_type": "stream",
          "name": "stdout",
          "text": [
            "Vector-column solutions: \n",
            " [36.89655172 20.68965517  6.37931034]\n"
          ]
        }
      ]
    },
    {
      "cell_type": "markdown",
      "source": [
        "Solution (cost per hour):\n",
        "\n",
        "designers = 36,90$\n",
        "\n",
        "developers = 20,69$\n",
        "\n",
        "testers = 6,80$\n",
        "\n"
      ],
      "metadata": {
        "id": "eq-Fdsda1es1"
      }
    }
  ]
}